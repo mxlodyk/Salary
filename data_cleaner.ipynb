{
 "cells": [
  {
   "cell_type": "markdown",
   "id": "7b918d63-8e5d-4e68-86a6-d5e303ebde28",
   "metadata": {},
   "source": [
    "# Clean Data"
   ]
  },
  {
   "cell_type": "code",
   "execution_count": 1,
   "id": "95c05ea8",
   "metadata": {
    "lines_to_next_cell": 1
   },
   "outputs": [],
   "source": [
    "import pandas as pd\n",
    "import numpy as np\n",
    "from sklearn.impute import KNNImputer"
   ]
  },
  {
   "cell_type": "code",
   "execution_count": 2,
   "id": "2c5a287a-b32d-419b-8f1d-43b81e3f18ac",
   "metadata": {},
   "outputs": [
    {
     "data": {
      "text/html": [
       "<div>\n",
       "<style scoped>\n",
       "    .dataframe tbody tr th:only-of-type {\n",
       "        vertical-align: middle;\n",
       "    }\n",
       "\n",
       "    .dataframe tbody tr th {\n",
       "        vertical-align: top;\n",
       "    }\n",
       "\n",
       "    .dataframe thead th {\n",
       "        text-align: right;\n",
       "    }\n",
       "</style>\n",
       "<table border=\"1\" class=\"dataframe\">\n",
       "  <thead>\n",
       "    <tr style=\"text-align: right;\">\n",
       "      <th></th>\n",
       "      <th>age</th>\n",
       "      <th>workclass</th>\n",
       "      <th>fnlwgt</th>\n",
       "      <th>education</th>\n",
       "      <th>education-num</th>\n",
       "      <th>marital-status</th>\n",
       "      <th>occupation</th>\n",
       "      <th>relationship</th>\n",
       "      <th>race</th>\n",
       "      <th>sex</th>\n",
       "      <th>capital-gain</th>\n",
       "      <th>capital-loss</th>\n",
       "      <th>hours-per-week</th>\n",
       "      <th>native-country</th>\n",
       "      <th>salary</th>\n",
       "    </tr>\n",
       "  </thead>\n",
       "  <tbody>\n",
       "    <tr>\n",
       "      <th>0</th>\n",
       "      <td>39</td>\n",
       "      <td>State-gov</td>\n",
       "      <td>77516</td>\n",
       "      <td>Bachelors</td>\n",
       "      <td>13</td>\n",
       "      <td>Never-married</td>\n",
       "      <td>Adm-clerical</td>\n",
       "      <td>Not-in-family</td>\n",
       "      <td>White</td>\n",
       "      <td>Male</td>\n",
       "      <td>2174</td>\n",
       "      <td>0</td>\n",
       "      <td>40</td>\n",
       "      <td>United-States</td>\n",
       "      <td>&lt;=50K</td>\n",
       "    </tr>\n",
       "    <tr>\n",
       "      <th>1</th>\n",
       "      <td>50</td>\n",
       "      <td>Self-emp-not-inc</td>\n",
       "      <td>83311</td>\n",
       "      <td>Bachelors</td>\n",
       "      <td>13</td>\n",
       "      <td>Married-civ-spouse</td>\n",
       "      <td>Exec-managerial</td>\n",
       "      <td>Husband</td>\n",
       "      <td>White</td>\n",
       "      <td>Male</td>\n",
       "      <td>0</td>\n",
       "      <td>0</td>\n",
       "      <td>13</td>\n",
       "      <td>United-States</td>\n",
       "      <td>&lt;=50K</td>\n",
       "    </tr>\n",
       "    <tr>\n",
       "      <th>2</th>\n",
       "      <td>38</td>\n",
       "      <td>Private</td>\n",
       "      <td>215646</td>\n",
       "      <td>HS-grad</td>\n",
       "      <td>9</td>\n",
       "      <td>Divorced</td>\n",
       "      <td>Handlers-cleaners</td>\n",
       "      <td>Not-in-family</td>\n",
       "      <td>White</td>\n",
       "      <td>Male</td>\n",
       "      <td>0</td>\n",
       "      <td>0</td>\n",
       "      <td>40</td>\n",
       "      <td>United-States</td>\n",
       "      <td>&lt;=50K</td>\n",
       "    </tr>\n",
       "    <tr>\n",
       "      <th>3</th>\n",
       "      <td>53</td>\n",
       "      <td>Private</td>\n",
       "      <td>234721</td>\n",
       "      <td>11th</td>\n",
       "      <td>7</td>\n",
       "      <td>Married-civ-spouse</td>\n",
       "      <td>Handlers-cleaners</td>\n",
       "      <td>Husband</td>\n",
       "      <td>Black</td>\n",
       "      <td>Male</td>\n",
       "      <td>0</td>\n",
       "      <td>0</td>\n",
       "      <td>40</td>\n",
       "      <td>United-States</td>\n",
       "      <td>&lt;=50K</td>\n",
       "    </tr>\n",
       "    <tr>\n",
       "      <th>4</th>\n",
       "      <td>28</td>\n",
       "      <td>Private</td>\n",
       "      <td>338409</td>\n",
       "      <td>Bachelors</td>\n",
       "      <td>13</td>\n",
       "      <td>Married-civ-spouse</td>\n",
       "      <td>Prof-specialty</td>\n",
       "      <td>Wife</td>\n",
       "      <td>Black</td>\n",
       "      <td>Female</td>\n",
       "      <td>0</td>\n",
       "      <td>0</td>\n",
       "      <td>40</td>\n",
       "      <td>Cuba</td>\n",
       "      <td>&lt;=50K</td>\n",
       "    </tr>\n",
       "  </tbody>\n",
       "</table>\n",
       "</div>"
      ],
      "text/plain": [
       "   age          workclass  fnlwgt   education  education-num  \\\n",
       "0   39          State-gov   77516   Bachelors             13   \n",
       "1   50   Self-emp-not-inc   83311   Bachelors             13   \n",
       "2   38            Private  215646     HS-grad              9   \n",
       "3   53            Private  234721        11th              7   \n",
       "4   28            Private  338409   Bachelors             13   \n",
       "\n",
       "        marital-status          occupation    relationship    race      sex  \\\n",
       "0        Never-married        Adm-clerical   Not-in-family   White     Male   \n",
       "1   Married-civ-spouse     Exec-managerial         Husband   White     Male   \n",
       "2             Divorced   Handlers-cleaners   Not-in-family   White     Male   \n",
       "3   Married-civ-spouse   Handlers-cleaners         Husband   Black     Male   \n",
       "4   Married-civ-spouse      Prof-specialty            Wife   Black   Female   \n",
       "\n",
       "   capital-gain  capital-loss  hours-per-week  native-country  salary  \n",
       "0          2174             0              40   United-States   <=50K  \n",
       "1             0             0              13   United-States   <=50K  \n",
       "2             0             0              40   United-States   <=50K  \n",
       "3             0             0              40   United-States   <=50K  \n",
       "4             0             0              40            Cuba   <=50K  "
      ]
     },
     "execution_count": 2,
     "metadata": {},
     "output_type": "execute_result"
    }
   ],
   "source": [
    "# Read the file into a DataFrame.\n",
    "df = pd.read_csv(\"salary.csv\")\n",
    "\n",
    "df.head(5)"
   ]
  },
  {
   "cell_type": "markdown",
   "id": "161e0b82-430c-4c63-9b4e-0f6d3a930ad5",
   "metadata": {},
   "source": [
    "## Handle Missing Data"
   ]
  },
  {
   "cell_type": "code",
   "execution_count": 3,
   "id": "375ead09-4608-46d4-b556-3d61042cca8f",
   "metadata": {},
   "outputs": [
    {
     "name": "stdout",
     "output_type": "stream",
     "text": [
      "NaN values per column before data cleaning: \n",
      "age               0\n",
      "workclass         0\n",
      "fnlwgt            0\n",
      "education         0\n",
      "education-num     0\n",
      "marital-status    0\n",
      "occupation        0\n",
      "relationship      0\n",
      "race              0\n",
      "sex               0\n",
      "capital-gain      0\n",
      "capital-loss      0\n",
      "hours-per-week    0\n",
      "native-country    0\n",
      "salary            0\n",
      "dtype: int64\n",
      "' ?' values per column before data cleaning: \n",
      "age                  0\n",
      "workclass         1836\n",
      "fnlwgt               0\n",
      "education            0\n",
      "education-num        0\n",
      "marital-status       0\n",
      "occupation        1843\n",
      "relationship         0\n",
      "race                 0\n",
      "sex                  0\n",
      "capital-gain         0\n",
      "capital-loss         0\n",
      "hours-per-week       0\n",
      "native-country     583\n",
      "salary               0\n",
      "dtype: int64\n"
     ]
    }
   ],
   "source": [
    "# Print the number of NaN values per column.\n",
    "print(\"NaN values per column before data cleaning: \")\n",
    "print(df.isnull().sum())\n",
    "\n",
    "# Print the number of ' ?' values per column since missing values are ' ?' in this dataset.\n",
    "print(\"' ?' values per column before data cleaning: \")\n",
    "print((df == ' ?').sum())"
   ]
  },
  {
   "cell_type": "code",
   "execution_count": 4,
   "id": "21e07124-4785-4f0c-b9bc-b96f9a720c95",
   "metadata": {},
   "outputs": [],
   "source": [
    "# Replace '?' with NaN for subsequent processing.\n",
    "df.replace(' ?', np.nan, inplace=True)\n",
    "\n",
    "# Fill numeric columns with their mean.\n",
    "numeric_columns = df.select_dtypes(include=[np.number]).columns\n",
    "df[numeric_columns] = df[numeric_columns].apply(lambda col: col.fillna(col.mean()))\n",
    "\n",
    "# Retrieve categorical columns.\n",
    "categorical_cols = df.select_dtypes(include=['object']).columns\n",
    "\n",
    "# Convert categorical columns to numerical encoding.\n",
    "df_categorical = df[categorical_cols].apply(lambda col: col.astype('category').cat.codes)\n",
    "\n",
    "# Apply KNN imputation to categorical data.\n",
    "knn_imputer = KNNImputer(n_neighbors=5)\n",
    "df_categorical_imputed = pd.DataFrame(knn_imputer.fit_transform(df_categorical), columns=categorical_cols)\n",
    "\n",
    "# Convert back the imputed categorical columns to original categories.\n",
    "for col in categorical_cols:\n",
    "    df_categorical_imputed[col] = df_categorical_imputed[col].round().astype(int)  # Round to nearest integer\n",
    "    df_categorical_imputed[col] = pd.Categorical.from_codes(\n",
    "        df_categorical_imputed[col], df[col].astype('category').cat.categories\n",
    "    )\n",
    "\n",
    "# Assign imputed categorical values back to original dataframe.\n",
    "df[categorical_cols] = df_categorical_imputed"
   ]
  },
  {
   "cell_type": "code",
   "execution_count": 5,
   "id": "b42c4ba0-ea33-419f-b458-b390c6be26fa",
   "metadata": {},
   "outputs": [
    {
     "name": "stdout",
     "output_type": "stream",
     "text": [
      "Missing values per column after data cleaning: \n",
      "age                  0\n",
      "workclass         1836\n",
      "fnlwgt               0\n",
      "education            0\n",
      "education-num        0\n",
      "marital-status       0\n",
      "occupation        1843\n",
      "relationship         0\n",
      "race                 0\n",
      "sex                  0\n",
      "capital-gain         0\n",
      "capital-loss         0\n",
      "hours-per-week       0\n",
      "native-country     583\n",
      "salary               0\n",
      "dtype: int64\n",
      "Missing values per column after data cleaning: \n",
      "age               0\n",
      "workclass         0\n",
      "fnlwgt            0\n",
      "education         0\n",
      "education-num     0\n",
      "marital-status    0\n",
      "occupation        0\n",
      "relationship      0\n",
      "race              0\n",
      "sex               0\n",
      "capital-gain      0\n",
      "capital-loss      0\n",
      "hours-per-week    0\n",
      "native-country    0\n",
      "salary            0\n",
      "dtype: int64\n"
     ]
    }
   ],
   "source": [
    "# Print the number of missing values per column after data cleaning.\n",
    "print(\"Missing values per column after data cleaning: \")\n",
    "print(df.isnull().sum())\n",
    "\n",
    "# Print the number of ' ?' values per column since missing values are ' ?' in this dataset.\n",
    "print(\"Missing values per column after data cleaning: \")\n",
    "print((df == ' ?').sum())"
   ]
  },
  {
   "cell_type": "markdown",
   "id": "b08e8b35-9b3c-453a-a28c-351eb19e1b0d",
   "metadata": {},
   "source": [
    "## Handle Duplicated Data"
   ]
  },
  {
   "cell_type": "code",
   "execution_count": 6,
   "id": "e7a164ee-1e7b-42fc-8778-a683c01c5e3a",
   "metadata": {},
   "outputs": [
    {
     "name": "stdout",
     "output_type": "stream",
     "text": [
      "Number of duplicated rows before removal: 24\n"
     ]
    }
   ],
   "source": [
    "# Print the number of duplicated rows.\n",
    "print(f\"Number of duplicated rows before removal: {df.duplicated().sum()}\")"
   ]
  },
  {
   "cell_type": "code",
   "execution_count": 7,
   "id": "6e8615a4-542f-46bb-aec8-338a2675b71f",
   "metadata": {},
   "outputs": [],
   "source": [
    "# Remove the duplicated rows.\n",
    "df.duplicated() \n",
    "df = df.drop_duplicates()"
   ]
  },
  {
   "cell_type": "code",
   "execution_count": 8,
   "id": "acc5da0f-e73a-4d2d-8d0a-edc382bf8579",
   "metadata": {},
   "outputs": [
    {
     "name": "stdout",
     "output_type": "stream",
     "text": [
      "Number of duplicated rows after removal: 0\n"
     ]
    }
   ],
   "source": [
    "# Confirm that the duplicated rows have been removed.\n",
    "print(f\"Number of duplicated rows after removal: {df.duplicated().sum()}\")"
   ]
  },
  {
   "cell_type": "markdown",
   "id": "3b507dbe-00d6-4875-9a8c-6c3922f75ea6",
   "metadata": {},
   "source": [
    "## Convert Data Types"
   ]
  },
  {
   "cell_type": "code",
   "execution_count": 9,
   "id": "f3eb4166-79e1-40fa-82d8-c0c2385b32c7",
   "metadata": {},
   "outputs": [],
   "source": [
    "# Convert the data to correct types.\n",
    "df['age'] = df['age'].astype('int')\n",
    "df['workclass'] = df['workclass'].astype('category')\n",
    "df['fnlwgt'] = df['fnlwgt'].astype('int')\n",
    "df['education'] = df['education'].astype('category')\n",
    "df['education-num'] = df['education-num'].astype('int')\n",
    "df['marital-status'] = df['marital-status'].astype('category')\n",
    "df['occupation'] = df['occupation'].astype('category')\n",
    "df['relationship'] = df['relationship'].astype('category')\n",
    "df['race'] = df['race'].astype('category')\n",
    "df['sex'] = df['sex'].astype('category')\n",
    "df['capital-gain'] = df['capital-gain'].astype('int')\n",
    "df['capital-loss'] = df['capital-loss'].astype('int')\n",
    "df['hours-per-week'] = df['hours-per-week'].astype('int')\n",
    "df['native-country'] = df['native-country'].astype('category')\n",
    "df['salary'] = df['salary'].astype('category')\n",
    "\n",
    "# Convert the salary column to Boolean values.\n",
    "df.rename(columns={'salary': 'salary-greater-50k'}, inplace=True)\n",
    "df['salary-greater-50k'] = df['salary-greater-50k'].str.strip().apply(lambda x: True if x == '>50K' else False)"
   ]
  },
  {
   "cell_type": "markdown",
   "id": "94d67599-b900-4284-a0cf-7f4c72f8e503",
   "metadata": {},
   "source": [
    "## Handle Outliers"
   ]
  },
  {
   "cell_type": "code",
   "execution_count": 10,
   "id": "8cc70aad-0047-4667-aa60-31db8f58e792",
   "metadata": {},
   "outputs": [
    {
     "name": "stdout",
     "output_type": "stream",
     "text": [
      "Column: age\n",
      "  Lower bound: 17\n",
      "  Upper bound: 78.0\n",
      "  Outliers found: 142\n",
      "Column: fnlwgt\n",
      "  Lower bound: -60922.0\n",
      "  Upper bound: 415742.0\n",
      "  Outliers found: 993\n",
      "Column: education-num\n",
      "  Lower bound: 4.5\n",
      "  Upper bound: 16.5\n",
      "  Outliers found: 1193\n",
      "Column: capital-gain\n",
      "  Lower bound: -12598.5\n",
      "  Upper bound: 30093.5\n",
      "  Outliers found: 166\n",
      "Column: capital-loss\n",
      "  Lower bound: 1214.5\n",
      "  Upper bound: 2434.5\n",
      "  Outliers found: 31125\n"
     ]
    },
    {
     "name": "stderr",
     "output_type": "stream",
     "text": [
      "/var/folders/_4/jt_csdv54z50v8hfjy064zb00000gn/T/ipykernel_33460/481881657.py:55: FutureWarning: Setting an item of incompatible dtype is deprecated and will raise an error in a future version of pandas. Value '[ 2174. 14084.  5178. ... 15020.  1086. 15024.]' has dtype incompatible with int64, please explicitly cast to a compatible dtype first.\n",
      "  df.loc[df[col] > 0, col] = df.loc[df[col] > 0, col].clip(lower=lower_bound, upper=upper_bound)\n",
      "/var/folders/_4/jt_csdv54z50v8hfjy064zb00000gn/T/ipykernel_33460/481881657.py:55: FutureWarning: Setting an item of incompatible dtype is deprecated and will raise an error in a future version of pandas. Value '[2042.  1408.  1902.  ... 1669.  1977.  1214.5]' has dtype incompatible with int64, please explicitly cast to a compatible dtype first.\n",
      "  df.loc[df[col] > 0, col] = df.loc[df[col] > 0, col].clip(lower=lower_bound, upper=upper_bound)\n"
     ]
    }
   ],
   "source": [
    "# Identify the numerical columns, excluding the 'salary' column.\n",
    "numerical_cols = df.select_dtypes(include=['int64', 'float64']).columns.tolist()\n",
    "if 'salary' in numerical_cols:\n",
    "    numerical_cols.remove('salary')\n",
    "\n",
    "# Process each numerical column.\n",
    "for col in numerical_cols:\n",
    "    # Skip 'capital-gain' and 'capital-loss' to handle them separately.\n",
    "    if col in ['capital-gain', 'capital-loss', 'hours-per-week']:\n",
    "        continue\n",
    "    \n",
    "    # Calculate Q1, Q3, and IQR.\n",
    "    Q1 = df[col].quantile(0.25)\n",
    "    Q3 = df[col].quantile(0.75)\n",
    "    IQR = Q3 - Q1\n",
    "    \n",
    "    # Define lower and upper bounds for outliers using IQR.\n",
    "    lower_bound = Q1 - 1.5 * IQR\n",
    "    upper_bound = Q3 + 1.5 * IQR\n",
    "\n",
    "    # Set custom bounds for 'age' column.\n",
    "    if col == 'age':\n",
    "        lower_bound = 17\n",
    "\n",
    "        # Log information about the calculated bounds and potential outliers.\n",
    "    print(f\"Column: {col}\")\n",
    "    print(f\"  Lower bound: {lower_bound}\")\n",
    "    print(f\"  Upper bound: {upper_bound}\")\n",
    "    print(f\"  Outliers found: {((df[col] < lower_bound) | (df[col] > upper_bound)).sum()}\")\n",
    "    \n",
    "    # Cap outlier values at the calculated bounds.\n",
    "    df[col] = df[col].clip(lower=lower_bound, upper=upper_bound)\n",
    "\n",
    "# Process 'capital-gain' and 'capital-loss' columns separately.\n",
    "for col in ['capital-gain', 'capital-loss']:\n",
    "    # Filter out zero values for IQR calculation to avoid the zero values dominating.\n",
    "    non_zero_col = df[df[col] > 0][col]\n",
    "\n",
    "    # Calculate Q1, Q3, and IQR for non-zero values only.\n",
    "    Q1 = non_zero_col.quantile(0.25)\n",
    "    Q3 = non_zero_col.quantile(0.75)\n",
    "    IQR = Q3 - Q1\n",
    "    \n",
    "    # Define lower and upper bounds for outliers using IQR.\n",
    "    lower_bound = Q1 - 1.5 * IQR\n",
    "    upper_bound = Q3 + 1.5 * IQR\n",
    "\n",
    "    # Log information about the bounds and potential outliers.\n",
    "    print(f\"Column: {col}\")\n",
    "    print(f\"  Lower bound: {lower_bound}\")\n",
    "    print(f\"  Upper bound: {upper_bound}\")\n",
    "    print(f\"  Outliers found: {((df[col] < lower_bound) | (df[col] > upper_bound)).sum()}\")\n",
    "\n",
    "    # Apply capping only to non-zero values.\n",
    "    df.loc[df[col] > 0, col] = df.loc[df[col] > 0, col].clip(lower=lower_bound, upper=upper_bound)"
   ]
  },
  {
   "cell_type": "markdown",
   "id": "c7b836a5-c23e-40ba-82cb-f6ef32c7e73c",
   "metadata": {},
   "source": [
    "### Save Cleaned Data"
   ]
  },
  {
   "cell_type": "code",
   "execution_count": 11,
   "id": "9e88d73f-9247-4b89-8042-6577f8b4b892",
   "metadata": {},
   "outputs": [],
   "source": [
    "# Save cleaned data to salary_cleaned.csv.\n",
    "df.to_csv(\"salary_cleaned.csv\", index=False)"
   ]
  }
 ],
 "metadata": {
  "jupytext": {
   "cell_metadata_filter": "-all",
   "main_language": "python",
   "notebook_metadata_filter": "-all"
  },
  "kernelspec": {
   "display_name": "Python 3 (ipykernel)",
   "language": "python",
   "name": "python3"
  },
  "language_info": {
   "codemirror_mode": {
    "name": "ipython",
    "version": 3
   },
   "file_extension": ".py",
   "mimetype": "text/x-python",
   "name": "python",
   "nbconvert_exporter": "python",
   "pygments_lexer": "ipython3",
   "version": "3.10.16"
  }
 },
 "nbformat": 4,
 "nbformat_minor": 5
}
